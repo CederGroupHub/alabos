{
 "cells": [
  {
   "cell_type": "code",
   "execution_count": 1,
   "id": "initial_id",
   "metadata": {
    "collapsed": true
   },
   "outputs": [
    {
     "name": "stderr",
     "output_type": "stream",
     "text": [
      "/Users/yuxing/.pyenv/versions/3.10.11/envs/alab_management_new/lib/python3.10/site-packages/paramiko/transport.py:219: CryptographyDeprecationWarning: Blowfish has been deprecated and will be removed in a future release\n",
      "  \"class\": algorithms.Blowfish,\n"
     ]
    },
    {
     "name": "stdout",
     "output_type": "stream",
     "text": [
      "Email alert is not set up due to either missing email_receivers, email_sender or email_password. It is also possible that the system is in simulation mode. Please recheck the config file if this is not expected.\n",
      "Slack alert is not set up due to either missingslack_bot_token or slack_channel_id. It is also possible that the system is in simulation mode. Please recheck the config file if this is not expected.\n"
     ]
    }
   ],
   "source": [
    "from alab_management.builders import ExperimentBuilder\n",
    "from alab_example import (\n",
    "    Diffraction,\n",
    "    Ending,\n",
    "    Heating,\n",
    "    PowderDosing,\n",
    "    RecoverPowder,\n",
    ")\n",
    "\n",
    "from alab_control.labman import InputFile"
   ]
  },
  {
   "cell_type": "code",
   "execution_count": 2,
   "id": "486bdb73",
   "metadata": {},
   "outputs": [],
   "source": [
    "exp = ExperimentBuilder(name=\"tutorial\", tags=[\"tutorial\"])\n",
    "\n",
    "# Define the samples\n",
    "# the experiment is to synthesize Li-Mn-O with different ratio of Li2CO3 and MnO\n",
    "samples = [\n",
    "    exp.add_sample(f\"tutorial_sample_{i}\", tags=[\"tutorial\"], precursors={\"Li2CO3\": (i - 1) / 15, \"MnO\": 1 - (i - 1) / 15}) for i in range(1, 17)\n",
    "]\n",
    "\n",
    "# Define the steps\n",
    "powder_dosing = PowderDosing(inputfiles={sample.name: InputFile(powder_dispenses=sample.metadata[\"precursors\"]).to_json() for sample in samples})\n",
    "powder_dosing.add_to(samples)\n",
    "\n",
    "# The samples are divided into two groups for heating\n",
    "# The first group is heated at 600°C for 120 minutes\n",
    "# The second group is heated at 800°C for 120 minutes\n",
    "heating_1 = Heating(heating_time=120, heating_temperature=600)\n",
    "heating_1.add_to(samples[:8])\n",
    "\n",
    "heating_2 = Heating(heating_time=240, heating_temperature=800)\n",
    "heating_2.add_to(samples[8:])\n",
    "\n",
    "for sample in samples:\n",
    "    powder_recovery = RecoverPowder()\n",
    "    powder_recovery.add_to(sample)\n",
    "\n",
    "    diffraction = Diffraction()\n",
    "    diffraction.add_to(sample)\n",
    "\n",
    "    ending = Ending()\n",
    "    ending.add_to(sample)"
   ]
  }
 ],
 "metadata": {
  "kernelspec": {
   "display_name": "Python 3",
   "language": "python",
   "name": "python3"
  },
  "language_info": {
   "codemirror_mode": {
    "name": "ipython",
    "version": 3
   },
   "file_extension": ".py",
   "mimetype": "text/x-python",
   "name": "python",
   "nbconvert_exporter": "python",
   "pygments_lexer": "ipython3",
   "version": "3.10.11"
  }
 },
 "nbformat": 4,
 "nbformat_minor": 5
}
